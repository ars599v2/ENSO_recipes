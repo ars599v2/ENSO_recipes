{
 "cells": [
  {
   "cell_type": "code",
   "execution_count": null,
   "id": "6f476f82-0bf2-49b1-81fe-fdbc25d4a9c4",
   "metadata": {},
   "outputs": [],
   "source": []
  },
  {
   "cell_type": "code",
   "execution_count": 1,
   "id": "8fda742e-38f2-495a-9505-f4fd337c3e8c",
   "metadata": {},
   "outputs": [],
   "source": [
    "\n",
    "import matplotlib.pyplot as plt\n",
    "import iris.quickplot as qplt\n",
    "import numpy as np\n",
    "import scipy.stats\n",
    "from scipy.stats import linregress\n"
   ]
  },
  {
   "cell_type": "code",
   "execution_count": 2,
   "id": "a3a2571a-c2f1-4ac8-a272-d4c731c062cd",
   "metadata": {},
   "outputs": [],
   "source": [
    "from esmvalcore.dataset import Dataset"
   ]
  },
  {
   "cell_type": "code",
   "execution_count": 3,
   "id": "a20485d9-9e93-4564-9fc0-f07c64a3bc36",
   "metadata": {},
   "outputs": [],
   "source": [
    "model_datasets = {\n",
    "\"ACCESS-ESM1-5\": \n",
    "    Dataset(\n",
    "    short_name='tos',\n",
    "    project='CMIP6',\n",
    "    mip=\"Omon\",\n",
    "    exp=\"historical\",\n",
    "    ensemble=\"r1i1p1f1\",\n",
    "    timerange=\"19790101/20190101\",\n",
    "    dataset=\"ACCESS-ESM1-5\",\n",
    "    grid=\"gn\"\n",
    ")}\n",
    "\n",
    "obs_datasets = {\n",
    "\"HadISST\": \n",
    "    Dataset(\n",
    "    short_name='tos',\n",
    "    dataset='HadISST',\n",
    "    mip=\"Omon\",\n",
    "    project='OBS',\n",
    "    type='reanaly',\n",
    "    tier=2),\n",
    "\"ERSSTv5\":\n",
    "    Dataset(\n",
    "    short_name='tos',\n",
    "    dataset='NOAA-ERSSTv5',\n",
    "    mip=\"Omon\",\n",
    "    project='OBS6',\n",
    "    type='reanaly',\n",
    "    tier=2),\n",
    "\"ERA-Interim\": \n",
    "    Dataset(\n",
    "    short_name='tos',\n",
    "    dataset='ERA-Interim',\n",
    "    mip=\"Omon\",\n",
    "    project='OBS6',\n",
    "    type='reanaly',\n",
    "    timerange=\"19790101/20190101\",\n",
    "    tier=3)\n",
    "}"
   ]
  },
  {
   "cell_type": "code",
   "execution_count": 4,
   "id": "5e048061-f220-4e34-820a-629c7b6b5580",
   "metadata": {},
   "outputs": [
    {
     "name": "stderr",
     "output_type": "stream",
     "text": [
      "WARNING:esmvalcore.local:'CMIP6' rootpaths '/g/data/nf33/public/data/APP4/CMIP6' set in config-user.yml do not exist\n"
     ]
    }
   ],
   "source": [
    "model_datasets = {name: dataset.load() for name, dataset in model_datasets.items()}\n",
    "obs_datasets = {name: dataset.load() for name, dataset in obs_datasets.items()}"
   ]
  },
  {
   "cell_type": "code",
   "execution_count": 5,
   "id": "3e4b8d63-b98d-4195-a6cb-7a5316c6db3b",
   "metadata": {},
   "outputs": [],
   "source": [
    "from esmvalcore.preprocessor import anomalies\n",
    "from esmvalcore.preprocessor import area_statistics\n",
    "from esmvalcore.preprocessor import climate_statistics\n",
    "from esmvalcore.preprocessor import monthly_statistics\n",
    "from esmvalcore.preprocessor import convert_units\n",
    "from esmvalcore.preprocessor import extract_region\n",
    "from esmvalcore.preprocessor import extract_month\n",
    "from esmvalcore.preprocessor import regrid\n",
    "from esmvalcore.preprocessor import detrend\n",
    "from esmvalcore.preprocessor import axis_statistics\n",
    "from esmvalcore.preprocessor import extract_time\n",
    "from esmvalcore.preprocessor import mask_landsea\n",
    "import iris"
   ]
  },
  {
   "cell_type": "code",
   "execution_count": 30,
   "id": "e2daff76-44ec-46b3-9157-81e506b032c7",
   "metadata": {},
   "outputs": [],
   "source": [
    "def prepoc1(cube):\n",
    "    nino34_latext_region = {\"start_longitude\": 190., \"end_longitude\": 240., \"start_latitude\": -5., \"end_latitude\": 5.}\n",
    "    cube = regrid(cube, target_grid=\"1x1\", scheme=\"linear\")\n",
    "    cube = extract_region(cube, **nino34_latext_region)\n",
    "    cube = anomalies(cube,period='monthly')\n",
    "    cube = area_statistics(cube,operator='mean')\n",
    "    cube = extract_month(cube,12) # get DEC\n",
    "    return cube\n",
    "\n",
    "def prepoc1(cube):\n",
    "    nino34_latext_region = {\"start_longitude\": 190., \"end_longitude\": 240., \"start_latitude\": -5., \"end_latitude\": 5.}\n",
    "    cube = regrid(cube, target_grid=\"1x1\", scheme=\"linear\")\n",
    "    cube = extract_region(cube, **nino34_latext_region)\n",
    "    cube = anomalies(cube,period='monthly')\n",
    "    cube = area_statistics(cube,operator='mean')\n",
    "    return cube"
   ]
  },
  {
   "cell_type": "code",
   "execution_count": 31,
   "id": "821d528c-da59-4b25-9bfa-3d7a53a61a9f",
   "metadata": {},
   "outputs": [],
   "source": [
    "model_datasets_prep1 = {name: prepoc1(dataset) for name, dataset in model_datasets.items()}\n",
    "model_datasets_prep2 = {name: prepoc2(dataset) for name, dataset in model_datasets.items()}\n",
    "\n",
    "obs_datasets_prep1 = {name: prepoc1(dataset) for name, dataset in obs_datasets.items()}\n",
    "obs_datasets_prep2 = {name: prepoc2(dataset) for name, dataset in obs_datasets.items()}\n"
   ]
  },
  {
   "cell_type": "code",
   "execution_count": null,
   "id": "617266ca-750f-4dce-8664-21e32ff7c5a3",
   "metadata": {},
   "outputs": [],
   "source": []
  },
  {
   "cell_type": "code",
   "execution_count": 54,
   "id": "f02eda75-674e-451f-9e45-9fe64ad02d20",
   "metadata": {},
   "outputs": [],
   "source": [
    "import numpy as np\n",
    "import matplotlib.pyplot as plt\n",
    "import iris\n",
    "from iris.time import PartialDateTime\n",
    "import sacpy as scp\n",
    "\n",
    "# Extract data from iris cubes\n",
    "nino34_dec = model_datasets_prep1[\"ACCESS-ESM1-5\"].data  # December only Nino3.4\n",
    "nino34 = model_datasets_prep2[\"ACCESS-ESM1-5\"].data  # All Nino3.4 data\n",
    "\n",
    "# Extract the time coordinates from the cubes\n",
    "time_coord_nino34 = model_datasets_prep2[\"ACCESS-ESM1-5\"].coord('time')\n",
    "\n",
    "# Convert the time coordinates to years (handling cftime objects)\n",
    "time_years = np.array([t.year for t in time_coord_nino34.units.num2date(time_coord_nino34.points)])\n",
    "\n",
    "# Define lead-lag period\n",
    "leadlagyr = 2\n",
    "\n",
    "# Select December data\n",
    "nino34_dec_ct = nino34_dec[leadlagyr:-leadlagyr-1]\n",
    "\n",
    "# Get the years of the event (matching the time range from nino34_dec_ct)\n",
    "event_years = time_years[leadlagyr:-leadlagyr-1]\n",
    "\n",
    "# Create an array to store the years of interest\n",
    "years_of_interest_array = np.empty((len(event_years), leadlagyr * 3), dtype=int)\n",
    "\n",
    "# Fill the array with the years of interest for each event year\n",
    "for i, year in enumerate(event_years):\n",
    "    years_of_interest_array[i] = [year - 2, year - 1, year, year + 1, year + 2, year + 3]\n",
    "\n",
    "# Select data for the years of interest from nino34\n",
    "n34_selected = []\n",
    "\n",
    "# Set max_length based on the shape of the nino34 array (assuming the time dimension is the first axis)\n",
    "max_length = nino34.shape[0]\n"
   ]
  },
  {
   "cell_type": "code",
   "execution_count": 57,
   "id": "9f8ab718-df90-43e0-b3d3-9227d71df5ea",
   "metadata": {},
   "outputs": [
    {
     "ename": "IndexError",
     "evalue": "index 36 is out of bounds for axis 0 with size 36",
     "output_type": "error",
     "traceback": [
      "\u001b[0;31m---------------------------------------------------------------------------\u001b[0m",
      "\u001b[0;31mIndexError\u001b[0m                                Traceback (most recent call last)",
      "Cell \u001b[0;32mIn[57], line 15\u001b[0m\n\u001b[1;32m     13\u001b[0m     \u001b[38;5;66;03m# Select the data for the matching years and append it\u001b[39;00m\n\u001b[1;32m     14\u001b[0m     \u001b[38;5;28;01mif\u001b[39;00m \u001b[38;5;28mlen\u001b[39m(year_indices) \u001b[38;5;241m>\u001b[39m \u001b[38;5;241m0\u001b[39m:\n\u001b[0;32m---> 15\u001b[0m         selected_data\u001b[38;5;241m.\u001b[39mappend(\u001b[43mn34\u001b[49m\u001b[43m[\u001b[49m\u001b[43myear_indices\u001b[49m\u001b[43m]\u001b[49m)\n\u001b[1;32m     17\u001b[0m \u001b[38;5;66;03m# Concatenate selected data for this range of years and append to n34_selected\u001b[39;00m\n\u001b[1;32m     18\u001b[0m \u001b[38;5;28;01mif\u001b[39;00m selected_data:\n",
      "File \u001b[0;32m/g/data/xp65/public/apps/med_conda/envs/esmvaltool-0.4/lib/python3.11/site-packages/numpy/ma/core.py:3228\u001b[0m, in \u001b[0;36mMaskedArray.__getitem__\u001b[0;34m(self, indx)\u001b[0m\n\u001b[1;32m   3218\u001b[0m \u001b[38;5;250m\u001b[39m\u001b[38;5;124;03m\"\"\"\u001b[39;00m\n\u001b[1;32m   3219\u001b[0m \u001b[38;5;124;03mx.__getitem__(y) <==> x[y]\u001b[39;00m\n\u001b[1;32m   3220\u001b[0m \n\u001b[1;32m   3221\u001b[0m \u001b[38;5;124;03mReturn the item described by i, as a masked array.\u001b[39;00m\n\u001b[1;32m   3222\u001b[0m \n\u001b[1;32m   3223\u001b[0m \u001b[38;5;124;03m\"\"\"\u001b[39;00m\n\u001b[1;32m   3224\u001b[0m \u001b[38;5;66;03m# We could directly use ndarray.__getitem__ on self.\u001b[39;00m\n\u001b[1;32m   3225\u001b[0m \u001b[38;5;66;03m# But then we would have to modify __array_finalize__ to prevent the\u001b[39;00m\n\u001b[1;32m   3226\u001b[0m \u001b[38;5;66;03m# mask of being reshaped if it hasn't been set up properly yet\u001b[39;00m\n\u001b[1;32m   3227\u001b[0m \u001b[38;5;66;03m# So it's easier to stick to the current version\u001b[39;00m\n\u001b[0;32m-> 3228\u001b[0m dout \u001b[38;5;241m=\u001b[39m \u001b[38;5;28;43mself\u001b[39;49m\u001b[38;5;241;43m.\u001b[39;49m\u001b[43mdata\u001b[49m\u001b[43m[\u001b[49m\u001b[43mindx\u001b[49m\u001b[43m]\u001b[49m\n\u001b[1;32m   3229\u001b[0m _mask \u001b[38;5;241m=\u001b[39m \u001b[38;5;28mself\u001b[39m\u001b[38;5;241m.\u001b[39m_mask\n\u001b[1;32m   3231\u001b[0m \u001b[38;5;28;01mdef\u001b[39;00m \u001b[38;5;21m_is_scalar\u001b[39m(m):\n",
      "\u001b[0;31mIndexError\u001b[0m: index 36 is out of bounds for axis 0 with size 36"
     ]
    }
   ],
   "source": [
    "n34_selected = []\n",
    "\n",
    "# Iterate over each set of years of interest\n",
    "for i in range(len(years_of_interest_array)):\n",
    "    # Create an empty list to store the selected data for each year\n",
    "    selected_data = []\n",
    "    \n",
    "    # Loop through each year of interest\n",
    "    for year in years_of_interest_array[i]:\n",
    "        # Get indices where time_years matches the current year\n",
    "        year_indices = np.where(time_years == year)[0]\n",
    "        \n",
    "        # Select the data for the matching years and append it\n",
    "        if len(year_indices) > 0:\n",
    "            selected_data.append(n34[year_indices])\n",
    "    \n",
    "    # Concatenate selected data for this range of years and append to n34_selected\n",
    "    if selected_data:\n",
    "        n34_selected.append(np.concatenate(selected_data))\n",
    "\n",
    "# Convert the list to a numpy array for further processing\n",
    "n34_selected_array = np.array(n34_selected)\n",
    "slope = scp.LinReg( n34_dec_ct.values, n34_selected_array).slope\n",
    "\n",
    "acf1 = autoCorrelation(n34, 36)\n",
    "\n",
    "plt.plot(np.arange(1, 73) - 36, slope, label='Slope.')\n",
    "plt.plot(np.arange(1, 74) - 37, acf1, label='Corr.')\n",
    "\n",
    "plt.xlabel('Lead & Lag Months')\n",
    "plt.ylabel('Degree C/Corr. Coef')\n",
    "#plt.title('Plot Title')\n",
    "plt.legend(); plt.grid()\n",
    "#plt.savefig('enso_n34_reg_ssta.png', bbox_inches='tight')\n",
    "plt.show()\n"
   ]
  },
  {
   "cell_type": "code",
   "execution_count": null,
   "id": "44c391af-110f-4cc4-8500-a17a95434068",
   "metadata": {},
   "outputs": [],
   "source": []
  },
  {
   "cell_type": "code",
   "execution_count": null,
   "id": "7d4137e0-5df9-40e8-94f1-16fac41c3c78",
   "metadata": {},
   "outputs": [],
   "source": []
  },
  {
   "cell_type": "markdown",
   "id": "d32210ed-2552-4d44-bfdb-7bc89dfaca1f",
   "metadata": {},
   "source": [
    "# note for Felicity"
   ]
  },
  {
   "cell_type": "code",
   "execution_count": null,
   "id": "271676b3-f019-442c-a5f9-6af7e0fad447",
   "metadata": {},
   "outputs": [],
   "source": [
    "# here I was using xarray\n",
    "ds = readnc('n34_Amon_ACCESS-CM2_historical_r1i1p1f1_gn_195001-201412.nc')\n",
    "\n",
    "# how can I convert to use CUBE to make this code working?\n",
    "\n",
    "leadlagyr = 2\n",
    "n34 = ds['n34'].squeeze()\n",
    "n34_dec = n34[11::12]\n",
    "n34_dec_ct = n34_dec[leadlagyr:-leadlagyr-1]\n",
    "\n",
    "event_years = n34_dec_ct.time.dt.year\n",
    "\n",
    "# Select the data for the years of interest from n34\n",
    "n34_cases = n34.sel(time=n34.time.dt.year.isin(event_years))\n",
    "\n",
    "# Create an empty array to store the years of interest\n",
    "years_of_interest_array = np.empty((len(event_years), leadlagyr*3), dtype=int)\n",
    "\n",
    "# Fill the array with the years of interest for each event year\n",
    "for i, year in enumerate(event_years):\n",
    "    # Ensure that the selected years are not the last or second last year in the n34 dataset\n",
    "    years_of_interest_array[i] = [year.values - 2, year.values - 1, year.values, year.values + 1, year.values + 2, year.values + 3]\n",
    "\n",
    "\n",
    "n34_selected = []\n",
    "\n",
    "for i in range(len(years_of_interest_array)):\n",
    "    # Select the data for the current year and append it to n34_selected\n",
    "    n34_selected.append(n34.sel(time=n34['time.year'].isin(years_of_interest_array[i])))\n",
    "\n",
    "import sacpy as scp\n",
    "n34_selected_array = np.array(n34_selected)  # Convert the list to a NumPy array\n",
    "slope = scp.LinReg( n34_dec_ct.values, n34_selected_array).slope\n",
    "\n",
    "acf1 = autoCorrelation(n34, 36)\n",
    "\n"
   ]
  },
  {
   "cell_type": "code",
   "execution_count": null,
   "id": "fae56d4f-e906-460e-bc71-24100fec868b",
   "metadata": {},
   "outputs": [],
   "source": [
    "plt.plot(np.arange(1, 73) - 36, slope, label='Slope.')\n",
    "plt.plot(np.arange(1, 74) - 37, acf1, label='Corr.')\n",
    "\n",
    "plt.xlabel('Lead & Lag Months')\n",
    "plt.ylabel('Degree C/Corr. Coef')\n",
    "#plt.title('Plot Title')\n",
    "plt.legend(); plt.grid()\n",
    "plt.savefig('enso_n34_reg_ssta.png', bbox_inches='tight')\n",
    "plt.show()\n"
   ]
  }
 ],
 "metadata": {
  "kernelspec": {
   "display_name": "Python 3 (ipykernel)",
   "language": "python",
   "name": "python3"
  },
  "language_info": {
   "codemirror_mode": {
    "name": "ipython",
    "version": 3
   },
   "file_extension": ".py",
   "mimetype": "text/x-python",
   "name": "python",
   "nbconvert_exporter": "python",
   "pygments_lexer": "ipython3",
   "version": "3.11.9"
  }
 },
 "nbformat": 4,
 "nbformat_minor": 5
}
