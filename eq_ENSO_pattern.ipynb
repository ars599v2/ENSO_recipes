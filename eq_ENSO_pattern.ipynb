{
 "cells": [
  {
   "cell_type": "code",
   "execution_count": null,
   "id": "6f476f82-0bf2-49b1-81fe-fdbc25d4a9c4",
   "metadata": {},
   "outputs": [],
   "source": []
  },
  {
   "cell_type": "code",
   "execution_count": 18,
   "id": "8fda742e-38f2-495a-9505-f4fd337c3e8c",
   "metadata": {},
   "outputs": [],
   "source": [
    "\n",
    "import matplotlib.pyplot as plt\n",
    "import iris.quickplot as qplt\n",
    "import numpy as np\n",
    "import scipy.stats\n"
   ]
  },
  {
   "cell_type": "code",
   "execution_count": 11,
   "id": "a3a2571a-c2f1-4ac8-a272-d4c731c062cd",
   "metadata": {},
   "outputs": [],
   "source": [
    "from esmvalcore.dataset import Dataset"
   ]
  },
  {
   "cell_type": "code",
   "execution_count": 12,
   "id": "a20485d9-9e93-4564-9fc0-f07c64a3bc36",
   "metadata": {},
   "outputs": [],
   "source": [
    "model_datasets = {\n",
    "\"ACCESS-ESM1-5\": \n",
    "    Dataset(\n",
    "    short_name='tos',\n",
    "    project='CMIP6',\n",
    "    mip=\"Omon\",\n",
    "    exp=\"historical\",\n",
    "    ensemble=\"r1i1p1f1\",\n",
    "    timerange=\"19790101/20190101\",\n",
    "    dataset=\"ACCESS-ESM1-5\",\n",
    "    grid=\"gn\"\n",
    ")}\n",
    "\n",
    "obs_datasets = {\n",
    "\"HadISST\": \n",
    "    Dataset(\n",
    "    short_name='tos',\n",
    "    dataset='HadISST',\n",
    "    mip=\"Omon\",\n",
    "    project='OBS',\n",
    "    type='reanaly',\n",
    "    tier=2),\n",
    "\"ERSSTv5\":\n",
    "    Dataset(\n",
    "    short_name='tos',\n",
    "    dataset='NOAA-ERSSTv5',\n",
    "    mip=\"Omon\",\n",
    "    project='OBS6',\n",
    "    type='reanaly',\n",
    "    tier=2),\n",
    "\"ERA-Interim\": \n",
    "    Dataset(\n",
    "    short_name='tos',\n",
    "    dataset='ERA-Interim',\n",
    "    mip=\"Omon\",\n",
    "    project='OBS6',\n",
    "    type='reanaly',\n",
    "    timerange=\"19790101/20190101\",\n",
    "    tier=3)\n",
    "}"
   ]
  },
  {
   "cell_type": "code",
   "execution_count": 13,
   "id": "5e048061-f220-4e34-820a-629c7b6b5580",
   "metadata": {},
   "outputs": [],
   "source": [
    "model_datasets = {name: dataset.load() for name, dataset in model_datasets.items()}\n",
    "obs_datasets = {name: dataset.load() for name, dataset in obs_datasets.items()}"
   ]
  },
  {
   "cell_type": "code",
   "execution_count": 14,
   "id": "3e4b8d63-b98d-4195-a6cb-7a5316c6db3b",
   "metadata": {},
   "outputs": [],
   "source": [
    "from esmvalcore.preprocessor import anomalies\n",
    "from esmvalcore.preprocessor import area_statistics\n",
    "from esmvalcore.preprocessor import climate_statistics\n",
    "from esmvalcore.preprocessor import monthly_statistics\n",
    "from esmvalcore.preprocessor import convert_units\n",
    "from esmvalcore.preprocessor import extract_region\n",
    "from esmvalcore.preprocessor import extract_month\n",
    "from esmvalcore.preprocessor import regrid\n",
    "from esmvalcore.preprocessor import detrend\n",
    "from esmvalcore.preprocessor import axis_statistics\n",
    "from esmvalcore.preprocessor import extract_time\n",
    "from esmvalcore.preprocessor import mask_landsea\n",
    "import iris"
   ]
  },
  {
   "cell_type": "code",
   "execution_count": 15,
   "id": "e2daff76-44ec-46b3-9157-81e506b032c7",
   "metadata": {},
   "outputs": [],
   "source": [
    "def prepoc1(cube):\n",
    "    nino34_latext_region = {\"start_longitude\": 190., \"end_longitude\": 240., \"start_latitude\": -5., \"end_latitude\": 5.}\n",
    "    cube = regrid(cube, target_grid=\"1x1\", scheme=\"linear\")\n",
    "    cube = extract_region(cube, **nino34_latext_region)\n",
    "    cube = anomalies(cube,period='monthly')\n",
    "    cube = area_statistics(cube,operator='mean')\n",
    "    cube = extract_month(cube,12) # get DEC\n",
    "    return cube\n",
    "\n",
    "def prepoc2(cube):\n",
    "    pac_region = {\"start_longitude\": 140., \"end_longitude\": 260., \"start_latitude\": -1., \"end_latitude\": 1.}\n",
    "    cube = regrid(cube, target_grid=\"1x1\", scheme=\"linear\")\n",
    "    cube = extract_region(cube, **pac_region)\n",
    "    cube = anomalies(cube,period='monthly')\n",
    "    cube = extract_month(cube,12) # get DEC\n",
    "    cube = axis_statistics(cube,axis='y', operator='mean')\n",
    "    return cube"
   ]
  },
  {
   "cell_type": "code",
   "execution_count": 16,
   "id": "821d528c-da59-4b25-9bfa-3d7a53a61a9f",
   "metadata": {},
   "outputs": [],
   "source": [
    "model_datasets_prep1 = {name: prepoc1(dataset) for name, dataset in model_datasets.items()}\n",
    "model_datasets_prep2 = {name: prepoc2(dataset) for name, dataset in model_datasets.items()}\n",
    "\n",
    "obs_datasets_prep1 = {name: prepoc1(dataset) for name, dataset in obs_datasets.items()}\n",
    "obs_datasets_prep2 = {name: prepoc2(dataset) for name, dataset in obs_datasets.items()}\n"
   ]
  },
  {
   "cell_type": "code",
   "execution_count": 19,
   "id": "44c6d4c5-99a3-4f14-a0b4-9aa27589b22a",
   "metadata": {},
   "outputs": [],
   "source": [
    "model_nino34 = model_datasets_prep1[\"ACCESS-ESM1-5\"].data\n",
    "model_ssta = model_datasets_prep2[\"ACCESS-ESM1-5\"].data\n",
    "model_lon = model_datasets_prep2[\"ACCESS-ESM1-5\"].coord('longitude').points\n",
    "\n",
    "# Transpose ssta_data to match the shape required for linregress\n",
    "model_ssta_transposed = model_ssta.T  # Shape becomes (120, 36)\n",
    "\n",
    "# Initialize an array to store the slope values for each spatial point\n",
    "model_slope = np.zeros(model_ssta_transposed.shape[0])  # Length will be 120\n",
    "\n",
    "# Loop over the 120 spatial points (after transpose, each row is a time series)\n",
    "for i in range(model_ssta_transposed.shape[0]):\n",
    "    # Perform linear regression between the transposed data and nino34_data\n",
    "    model_slope[i], model_intercept, model_r_value, model_p_value, model_std_err = scipy.stats.linregress(model_ssta_transposed[i], model_nino34)\n"
   ]
  },
  {
   "cell_type": "code",
   "execution_count": 20,
   "id": "1342188c-c11c-41e3-8f07-0e355748f906",
   "metadata": {},
   "outputs": [],
   "source": [
    "obs_nino34 = obs_datasets_prep1[\"HadISST\"].data\n",
    "obs_ssta = obs_datasets_prep2[\"HadISST\"].data\n",
    "obs_lon = obs_datasets_prep2[\"HadISST\"].coord('longitude').points\n",
    "\n",
    "# Transpose ssta_data to match the shape required for linregress\n",
    "obs_ssta_transposed = obs_ssta.T  # Shape becomes (120, 36)\n",
    "\n",
    "# Initialize an array to store the slope values for each spatial point\n",
    "obs_slope = np.zeros(obs_ssta_transposed.shape[0])  # Length will be 120\n",
    "\n",
    "# Loop over the 120 spatial points (after transpose, each row is a time series)\n",
    "for i in range(obs_ssta_transposed.shape[0]):\n",
    "    # Perform linear regression between the transposed data and nino34_data\n",
    "    obs_slope[i], obs_intercept, obs_r_value, obs_p_value, obs_std_err = scipy.stats.linregress(obs_ssta_transposed[i], obs_nino34)\n"
   ]
  },
  {
   "cell_type": "code",
   "execution_count": 21,
   "id": "0ca953b0-0ebd-4a9b-8073-9800fcefe266",
   "metadata": {},
   "outputs": [
    {
     "data": {
      "text/plain": [
       "[<matplotlib.lines.Line2D at 0x1523d4499050>]"
      ]
     },
     "execution_count": 21,
     "metadata": {},
     "output_type": "execute_result"
    },
    {
     "data": {
      "image/png": "[encoded data removed]",
      "text/plain": [
       "<Figure size 640x480 with 1 Axes>"
      ]
     },
     "metadata": {},
     "output_type": "display_data"
    }
   ],
   "source": [
    "# Now slope will be an array of length 120\n",
    "plt.plot(model_lon, model_slope)\n",
    "plt.plot(obs_lon, obs_slope)"
   ]
  },
  {
   "cell_type": "code",
   "execution_count": null,
   "id": "99d2fd96-a1b2-4e23-9f16-7f0918bff679",
   "metadata": {},
   "outputs": [],
   "source": []
  },
  {
   "cell_type": "code",
   "execution_count": null,
   "id": "617266ca-750f-4dce-8664-21e32ff7c5a3",
   "metadata": {},
   "outputs": [],
   "source": []
  }
 ],
 "metadata": {
  "kernelspec": {
   "display_name": "Python 3 (ipykernel)",
   "language": "python",
   "name": "python3"
  },
  "language_info": {
   "codemirror_mode": {
    "name": "ipython",
    "version": 3
   },
   "file_extension": ".py",
   "mimetype": "text/x-python",
   "name": "python",
   "nbconvert_exporter": "python",
   "pygments_lexer": "ipython3",
   "version": "3.11.9"
  }
 },
 "nbformat": 4,
 "nbformat_minor": 5
}
